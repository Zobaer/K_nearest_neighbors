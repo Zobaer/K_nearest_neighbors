{
  "nbformat": 4,
  "nbformat_minor": 0,
  "metadata": {
    "colab": {
      "name": "Assignment4Q3_single_k.ipynb",
      "provenance": [],
      "collapsed_sections": []
    },
    "kernelspec": {
      "name": "python3",
      "display_name": "Python 3"
    },
    "language_info": {
      "name": "python"
    }
  },
  "cells": [
    {
      "cell_type": "code",
      "metadata": {
        "colab": {
          "base_uri": "https://localhost:8080/"
        },
        "id": "ZBpP5ZKlXsRB",
        "outputId": "78683556-956a-4748-f67f-f842ecf43ad2"
      },
      "source": [
        "import numpy as np\n",
        "import pandas as pd\n",
        "\n",
        "#read values from excel\n",
        "dtrn = pd.read_excel('Data.xlsx', sheet_name='Train',header=0)\n",
        "dtst = pd.read_excel('Data.xlsx', sheet_name='Test',header=0)\n",
        "\n",
        "#convert to numpy matrices\n",
        "dtrn = dtrn.to_numpy()\n",
        "dtst = dtst.to_numpy()\n",
        "\n",
        "#Get the training and test data and corresponding labels\n",
        "x_train = dtrn[:,1:-1]\n",
        "y_train = dtrn[:,-1]\n",
        "x_test = dtst[:,1:-1]\n",
        "y_test = dtst[:,-1]\n",
        "\n",
        "rowtr = x_train.shape[0]\n",
        "coltr = x_train.shape[1]\n",
        "rowtst = x_test.shape[0]\n",
        "coltst = x_test.shape[1]\n",
        "\n",
        "k = int(input(\"Enter the value of k (number of neighbours): \"))\n",
        "num_of_labels = 3\n",
        "\n",
        "#initialize vectors\n",
        "dist = np.zeros(rowtr)\n",
        "predicted_label = [\"\" for x in range(rowtst)]\n",
        "\n",
        "for i in range(rowtst):\n",
        "  #calculate Eucleadian distances\n",
        "  for j in range(rowtr):\n",
        "    dist[j] = np.sqrt(np.sum((x_test[i,:] - x_train[j,:])**2))\n",
        "  \n",
        "  #sort the arguments\n",
        "  sorted_dist_arg = np.argsort(dist)\n",
        "\n",
        "  #initialize votes\n",
        "  vote = np.zeros(num_of_labels) #0 for apartment, 1 for Condo and 2 for house\n",
        "\n",
        "  #take votes from sorted list\n",
        "  for c in range(k):\n",
        "    predict = y_train[sorted_dist_arg[c]]\n",
        "    if(predict == 'Apartment'):\n",
        "      vote[0] = vote[0] + 1\n",
        "    elif(predict == 'Condo'):\n",
        "      vote[1] = vote[1] + 1\n",
        "    else:\n",
        "      vote[2] = vote[2] + 1\n",
        "\n",
        "  #Get the maximum votes\n",
        "  predicted_label_number= np.argmax(vote)\n",
        "\n",
        "  #Convert to predicted labels\n",
        "  if(predicted_label_number == 0):\n",
        "    predicted_label[i] = 'Apartment'\n",
        "  elif(predicted_label_number == 1):\n",
        "    predicted_label[i] = 'Condo'\n",
        "  else:\n",
        "    predicted_label[i] = 'House'\n",
        "\n",
        "#Print the labels\n",
        "print(\"Given labels in test data: \", y_test)\n",
        "print(\"Predicted labels:          \", predicted_label)\n",
        "\n",
        "#Calculate accuracy for the test data\n",
        "total_count = rowtst\n",
        "correct_count = 0;\n",
        "\n",
        "for a in range(rowtst):\n",
        "  if(predicted_label[a]==y_test[a]):\n",
        "    correct_count = correct_count + 1\n",
        "accuracy = correct_count/total_count * 100   \n",
        "print(\"Accuracy with k = \", k, \" is: \", accuracy)"
      ],
      "execution_count": null,
      "outputs": [
        {
          "output_type": "stream",
          "name": "stdout",
          "text": [
            "Enter the value of k (number of neighbours): 4\n",
            "Given labels in test data:  ['Apartment' 'House' 'House' 'Apartment' 'Apartment']\n",
            "Predicted labels:           ['Apartment', 'Apartment', 'Apartment', 'House', 'House']\n",
            "Accuracy with k =  4  is:  20.0\n"
          ]
        }
      ]
    }
  ]
}
